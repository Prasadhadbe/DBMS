{
 "cells": [
  {
   "cell_type": "code",
   "execution_count": 1,
   "id": "f855a740-fd0f-4e51-8556-a655e6558961",
   "metadata": {},
   "outputs": [
    {
     "name": "stdout",
     "output_type": "stream",
     "text": [
      "Requirement already satisfied: mysql-connector-python in /opt/anaconda3/lib/python3.11/site-packages (9.0.0)\n"
     ]
    }
   ],
   "source": [
    "!pip install mysql-connector-python"
   ]
  },
  {
   "cell_type": "code",
   "execution_count": 2,
   "id": "55ceb485-23ba-4e18-836e-4ebc95f54867",
   "metadata": {},
   "outputs": [],
   "source": [
    "import mysql.connector\n",
    "from mysql.connector import Error\n",
    "\n",
    "\n",
    "def create_connection():\n",
    "    connection = None\n",
    "    try:\n",
    "        connection = mysql.connector.connect(\n",
    "            host = \"localhost\",\n",
    "            port = 30306,\n",
    "            user = \"root\",\n",
    "            password = \"Nerogod\",\n",
    "            database = \"school\")\n",
    "        print(\"Connection to mysql successful\")\n",
    "    except Error as e:\n",
    "        print(f\"the error '{e}' occurred\")\n",
    "\n",
    "    return connection"
   ]
  },
  {
   "cell_type": "code",
   "execution_count": 3,
   "id": "19c1ff1b-dd28-4af1-9bc7-ddc55cf766c2",
   "metadata": {},
   "outputs": [
    {
     "name": "stdout",
     "output_type": "stream",
     "text": [
      "Connection to mysql successful\n"
     ]
    },
    {
     "data": {
      "text/plain": [
       "<mysql.connector.connection_cext.CMySQLConnection at 0x107fab510>"
      ]
     },
     "execution_count": 3,
     "metadata": {},
     "output_type": "execute_result"
    }
   ],
   "source": [
    "# create_connection()"
   ]
  },
  {
   "cell_type": "code",
   "execution_count": 10,
   "id": "0cdf6843-8174-45f4-b821-244f4d024f9b",
   "metadata": {},
   "outputs": [],
   "source": [
    "def execute_query(connection, query, values=None):\n",
    "    cursor = connection.cursor()\n",
    "    try:\n",
    "        if values:\n",
    "            cursor.execute(query)\n",
    "            connection.commit()\n",
    "            print(\"Query executed successfully\")\n",
    "    except Error as e:\n",
    "        print(f\"The error '{e}' occurred\")"
   ]
  },
  {
   "cell_type": "code",
   "execution_count": 5,
   "id": "b57e50df-ccf9-4574-a56d-e7fa46856400",
   "metadata": {},
   "outputs": [],
   "source": [
    "def fetch_query(connection, query, values=None):\n",
    "    cursor = connection.cursor(dictionary = True)\n",
    "    result = None\n",
    "    try:\n",
    "        if values:\n",
    "            cursor.execute(query, values)\n",
    "        else:\n",
    "            cursor.execute(query)\n",
    "            result = cursor.fetchall()\n",
    "            return result\n",
    "    except Error as e:\n",
    "        print(f\"The error '{e}' occurred\")\n",
    "    return None\n",
    "    "
   ]
  },
  {
   "cell_type": "code",
   "execution_count": 9,
   "id": "58cf3ff2-eb64-40d3-8c73-1fe2276b1cde",
   "metadata": {},
   "outputs": [],
   "source": [
    "def create_student(connection, name, age, grade):\n",
    "    query = \"INSERT INTO students (name,age,grade) values (%s, %s, %s)\"\n",
    "    values = (name, age, grade)\n",
    "    execute_query(connection, query, values)\n",
    "\n",
    "def get_students(connection):\n",
    "    query = \"SELECT * FROM students\"\n",
    "    return fetch_query(connection, query)\n",
    "\n",
    "def get_student_by_id(connection, query, values):\n",
    "    query = \"SELECT * FROM students WHERE id = %s\"\n",
    "    values = (student_id)\n",
    "    return fetch_query(connection, query, values)\n",
    "\n",
    "def update_student(connection, student_id, name, age, grade):\n",
    "    query = \"UPDATE students SET name = %s, age = %s, grade = %s WHERE id = %s\"\n",
    "    values = (name, age, grade, student_id)\n",
    "    execute_query(connection, query, values)\n",
    "\n",
    "def delete_student(connection, student_id):\n",
    "    query = \"DELETE FROM students WHERE id = %s\"\n",
    "    values = (student_id)\n",
    "    execute_query(connection, query, values)"
   ]
  },
  {
   "cell_type": "code",
   "execution_count": null,
   "id": "f06bbe3b-d7b3-4bad-adf5-d28424e8597b",
   "metadata": {},
   "outputs": [],
   "source": []
  }
 ],
 "metadata": {
  "kernelspec": {
   "display_name": "Python 3 (ipykernel)",
   "language": "python",
   "name": "python3"
  },
  "language_info": {
   "codemirror_mode": {
    "name": "ipython",
    "version": 3
   },
   "file_extension": ".py",
   "mimetype": "text/x-python",
   "name": "python",
   "nbconvert_exporter": "python",
   "pygments_lexer": "ipython3",
   "version": "3.11.7"
  }
 },
 "nbformat": 4,
 "nbformat_minor": 5
}
